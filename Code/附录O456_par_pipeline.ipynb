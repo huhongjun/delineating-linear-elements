{
 "cells": [
  {
   "cell_type": "code",
   "execution_count": 1,
   "metadata": {},
   "outputs": [
    {
     "data": {
      "text/plain": [
       "'1.1.0'"
      ]
     },
     "execution_count": 1,
     "metadata": {},
     "output_type": "execute_result"
    }
   ],
   "source": [
    "import scipy\n",
    "scipy.__version__"
   ]
  },
  {
   "cell_type": "markdown",
   "metadata": {},
   "source": [
    "# Objective 4. Import the point cloud into Python and do some basic computation.\n",
    "\n",
    "Note. In Python we will use a range of libraries. A short description will\n",
    "be provided, but for detailed instructions use the library documentation and\n",
    "Google."
   ]
  },
  {
   "cell_type": "code",
   "execution_count": 2,
   "metadata": {},
   "outputs": [],
   "source": [
    "# -*- coding: utf-8 -*-\n",
    "\"\"\"\n",
    "Computes point neighbourshood parameters and removes irrelevant points.\n",
    "\n",
    "@author: Chris Lucas\n",
    "\"\"\"\n",
    "\n",
    "import pandas as pd\n",
    "import time\n",
    "import os\n",
    "from scipy.spatial import KDTree\n",
    "from data_preprocessing import las_to_csv, downsample\n",
    "from par_computation import neighbourhood_features\n",
    "\n",
    "# %% file paths\n",
    "las_path = \"L:/ws_MachineLearning/ChrisLucas/delineating-linear-elements/Data/ResearchArea.las\"\n",
    "las2txt_path = \"L:/ARun/LAStools/bin/las2txt.exe\"\n",
    "CloudCompare_path = \"L:/ARun/CloudCompare_v2.9.1_bin_x64/CloudCompare.exe\""
   ]
  },
  {
   "cell_type": "code",
   "execution_count": 3,
   "metadata": {},
   "outputs": [
    {
     "name": "stdout",
     "output_type": "stream",
     "text": [
      "Subsampled output file already exists.\n",
      "CSV output file already exists.\n"
     ]
    }
   ],
   "source": [
    "# %% Prepare data and load into python\n",
    "# downsample point cloud and convert to csv\n",
    "las = downsample(las_path, 0.3, tool_path=CloudCompare_path)\n",
    "csv_path = las_to_csv(las, method='las2txt', tool_path=las2txt_path)"
   ]
  },
  {
   "cell_type": "markdown",
   "metadata": {},
   "source": [
    "To read in the very large ASCII ﬁle we will use the pandas library (comes\n",
    "already installed with Anaconda). Pandas is a library that provides high\n",
    "performance and easy to use data structures.\n",
    "## Assignment 11. Import pandas and use it to read in the point cloud csv ﬁle."
   ]
  },
  {
   "cell_type": "code",
   "execution_count": 4,
   "metadata": {},
   "outputs": [
    {
     "name": "stdout",
     "output_type": "stream",
     "text": [
      "Loading point cloud csv file using pandas..\n"
     ]
    },
    {
     "name": "stderr",
     "output_type": "stream",
     "text": [
      "d:\\miniconda3\\envs\\py2.7\\lib\\site-packages\\ipykernel_launcher.py:8: FutureWarning: Method .as_matrix will be removed in a future version. Use .values instead.\n",
      "  \n"
     ]
    }
   ],
   "source": [
    "# Load the csv point cloud file\n",
    "print \"Loading point cloud csv file using pandas..\"\n",
    "csv_path=\"L:/ws_MachineLearning/ChrisLucas/delineating-linear-elements/Data/ResearchArea_sub_0_3.csv\"\n",
    "point_cloud = pd.read_csv(csv_path, delimiter=';', header=None,\n",
    "                          names=['X', 'Y', 'Z', 'intensity',\n",
    "                                 'return_number', 'number_of_returns'])\n",
    "\n",
    "points = point_cloud.as_matrix(columns=['X', 'Y', 'Z'])\n",
    "\n"
   ]
  },
  {
   "cell_type": "markdown",
   "metadata": {},
   "source": [
    "# Objective 5. Use a k-d tree data structure to compute nearest neighbours.\n",
    "When processing point clouds it’s often needed to compute the nearest\n",
    "neighbours of a point. For example when computing neighbourhood param-\n",
    "eters or when using a region growing algorithm. To eﬃciently compute these\n",
    "nearest points a data structure can be used. Diﬀerent data structures exist,\n",
    "including the k-d tree, octree and R-tree. The most eﬃcient data structure\n",
    "depends on the data and the application. We will us a k-d tree, but this is\n",
    "certainly not the only option.\n",
    "The python library SciPy (comes already installed with Anaconda) con-\n",
    "tains many functions for scientiﬁc computing. It includes a spatial module,\n",
    "which contains an algorithm for the construction of k-d trees."
   ]
  },
  {
   "cell_type": "markdown",
   "metadata": {},
   "source": [
    "## Assignment 14. Import cKDTree from SciPy and use it to construct a k-d tree for the point cloud.\n",
    "Note. SciPy also has a KDTree function. The diﬀerence between cKDTree\n",
    "and KDTree is that KDTree is coded in pure python while cKDTree is coded\n",
    "in Cython (a version of python which gives python-like code C-like perfor-\n",
    "mance). Consequently cKDTree is signiﬁcantly faster than KDTree."
   ]
  },
  {
   "cell_type": "code",
   "execution_count": 5,
   "metadata": {},
   "outputs": [
    {
     "name": "stdout",
     "output_type": "stream",
     "text": [
      "Computing nearest neighbours..\n",
      "oooooooooooooo\n"
     ]
    }
   ],
   "source": [
    "# %% Compute nearest neighbours\n",
    "print \"Computing nearest neighbours..\"\n",
    "neighbours = [50]\n",
    "kdtree = KDTree(points)\n",
    "print('oooooooooooooo')"
   ]
  },
  {
   "cell_type": "markdown",
   "metadata": {},
   "source": [
    "Now that the k-d tree is constructed it can be queried for neighbours.\n",
    "This can be done in two ways: (i) loop over the points and query for each\n",
    "point separately, and (ii) query every point at once. Generally the former is\n",
    "more memory eﬃcient, while the latter is more CPU eﬃcient.\n",
    "Before we query for neighbours we need to deﬁne our neighbourhood.\n",
    "This can be done in three ways: (i) k nearest neighbours, (ii) spherical, and\n",
    "(iii) cylindrical.\n",
    "\n",
    "## Assignment 15. Use the k-d tree to compute the neighbourhood of a point using the three diﬀerent neighbourhood deﬁnitions.\n"
   ]
  },
  {
   "cell_type": "code",
   "execution_count": 6,
   "metadata": {},
   "outputs": [
    {
     "name": "stdout",
     "output_type": "stream",
     "text": [
      "Done!\n"
     ]
    }
   ],
   "source": [
    "distances, point_neighbours = kdtree.query(points, max(neighbours))\n",
    "print \"Done!\""
   ]
  },
  {
   "cell_type": "markdown",
   "metadata": {},
   "source": [
    "# Objective 6. Use a structure tensor to compute neighbourhood parameters."
   ]
  },
  {
   "cell_type": "code",
   "execution_count": 7,
   "metadata": {},
   "outputs": [],
   "source": [
    "# %% Compute point features\n",
    "features = ['delta_z', 'std_z', 'radius', 'density', 'norm_z',\n",
    "            'linearity', 'planarity', 'sphericity', 'omnivariance',\n",
    "            'anisotropy', 'eigenentropy', 'sum_eigenvalues',\n",
    "            'curvature']\n",
    "feature_values = {}"
   ]
  },
  {
   "cell_type": "code",
   "execution_count": 8,
   "metadata": {},
   "outputs": [
    {
     "name": "stdout",
     "output_type": "stream",
     "text": [
      "Computing covariance features..\n",
      " Computing structure tensors..\n",
      " Done!\n",
      " Computing features..\n",
      " Done!\n",
      "Done! Runtime: 101.585999966\n"
     ]
    }
   ],
   "source": [
    "for k in neighbours:\n",
    "    print \"Computing covariance features..\"\n",
    "    t = time.time()\n",
    "    fv = neighbourhood_features(points, point_neighbours[:, :k],\n",
    "                                features, distances[:, :k])\n",
    "    print \"Done! Runtime: %s\" % str(time.time() - t)\n",
    "    feature_values[k] = fv"
   ]
  },
  {
   "cell_type": "code",
   "execution_count": 9,
   "metadata": {},
   "outputs": [],
   "source": [
    "for k in neighbours:\n",
    "    for i, f in enumerate(features):\n",
    "        key = f + '_' + str(k)\n",
    "        point_cloud[key] = pd.Series(feature_values[k][:, i])"
   ]
  },
  {
   "cell_type": "code",
   "execution_count": 10,
   "metadata": {},
   "outputs": [
    {
     "name": "stdout",
     "output_type": "stream",
     "text": [
      "Trimming data..\n",
      "Done!\n"
     ]
    }
   ],
   "source": [
    "# %% Trim the data by deleting all non scatter points from the point cloud\n",
    "print \"Trimming data..\"\n",
    "point_cloud.query('sphericity_50 > 0.05 & planarity_50 < 0.7', inplace=True)\n",
    "point_cloud.reset_index(drop=True, inplace=True)\n",
    "print \"Done!\""
   ]
  },
  {
   "cell_type": "code",
   "execution_count": 11,
   "metadata": {},
   "outputs": [],
   "source": [
    "# %% Compute normalized return number\n",
    "point_cloud['norm_returns'] = (point_cloud['return_number'] /\n",
    "                               point_cloud['number_of_returns'])"
   ]
  },
  {
   "cell_type": "code",
   "execution_count": 12,
   "metadata": {},
   "outputs": [
    {
     "name": "stdout",
     "output_type": "stream",
     "text": [
      "L:/ws_MachineLearning/ChrisLucas/delineating-linear-elements/Data/ResearchArea_params.csv\n"
     ]
    }
   ],
   "source": [
    "# %% Output data\n",
    "las_path_root = os.path.splitext(las_path)[0]\n",
    "out_filename = '%s_params.csv' % (las_path_root)\n",
    "print(out_filename)\n",
    "point_cloud.to_csv(out_filename, index=False)"
   ]
  }
 ],
 "metadata": {
  "kernelspec": {
   "display_name": "Python 2",
   "language": "python",
   "name": "python2"
  },
  "language_info": {
   "codemirror_mode": {
    "name": "ipython",
    "version": 2
   },
   "file_extension": ".py",
   "mimetype": "text/x-python",
   "name": "python",
   "nbconvert_exporter": "python",
   "pygments_lexer": "ipython2",
   "version": "2.7.13"
  }
 },
 "nbformat": 4,
 "nbformat_minor": 2
}
