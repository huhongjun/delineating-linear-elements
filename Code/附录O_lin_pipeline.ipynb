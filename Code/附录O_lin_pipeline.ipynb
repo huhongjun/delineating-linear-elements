{
 "cells": [
  {
   "cell_type": "code",
   "execution_count": null,
   "metadata": {},
   "outputs": [],
   "source": [
    "# -*- coding: utf-8 -*-\n",
    "\"\"\"\n",
    "\n",
    "@author: Chris Lucas\n",
    "\"\"\"\n",
    "\n",
    "import math\n",
    "import pandas as pd\n",
    "import time\n",
    "import os\n",
    "from lin_delineation import (segment_object, VegetationObject,\n",
    "                             merge_objects, export_to_shapefile)\n",
    "from data_preprocessing import downsample"
   ]
  },
  {
   "cell_type": "code",
   "execution_count": null,
   "metadata": {},
   "outputs": [],
   "source": [
    "# %%\n",
    "cwd = os.getcwd()\n",
    "CloudCompare_path = \"L:/ARun/CloudCompare_v2.9.1_bin_x64/CloudCompare.exe\"\n",
    "point_cloud = pd.read_csv('../Data/veg_classification.csv')\n",
    "\n",
    "# Downsample low vegetation points\n",
    "low_veg_path = '%s\\\\Data\\\\low_veg_2D.csv' % os.path.dirname(cwd)\n",
    "point_cloud.loc[point_cloud['class'] == 1].to_csv(low_veg_path,\n",
    "                                                  columns=['X', 'Y'],\n",
    "                                                  index=False)\n",
    "low_veg_path = downsample(low_veg_path, 1.0, CloudCompare_path)\n",
    "\n",
    "# Downsample tree points\n",
    "trees_path = '%s\\\\Data\\\\trees_2D.csv' % os.path.dirname(cwd)\n",
    "point_cloud.loc[point_cloud['class'] == 2].to_csv(trees_path,\n",
    "                                                  columns=['X', 'Y'],\n",
    "                                                  index=False)\n",
    "trees_path = downsample(trees_path, 2.0, CloudCompare_path)"
   ]
  },
  {
   "cell_type": "code",
   "execution_count": null,
   "metadata": {},
   "outputs": [],
   "source": [
    "# %% Load point cloud data\n",
    "print 'Loading tree points..'\n",
    "point_cloud = pd.read_csv('../Data/trees_2D_sub_2_0.csv',\n",
    "                          delimiter=',', names=['X', 'Y', 'Z'], header=1)\n",
    "point_cloud.drop('Z', axis=1, inplace=True)\n",
    "\n",
    "points = point_cloud.as_matrix()\n",
    "global_shift_t = (min(points[:, 0]), min(points[:, 1]))\n",
    "points[:, 0] -= global_shift_t[0]\n",
    "points[:, 1] -= global_shift_t[1]"
   ]
  },
  {
   "cell_type": "code",
   "execution_count": null,
   "metadata": {},
   "outputs": [],
   "source": [
    "# %% Segment the points into rectangular objects\n",
    "min_size = 5\n",
    "rect_th = 0.55\n",
    "alpha = 0.4\n",
    "k_init = 20\n",
    "max_dist_init = 15.0\n",
    "k = 8\n",
    "max_dist = 5.0\n",
    "\n",
    "print 'Growing rectangular regions..'\n",
    "t = time.time()\n",
    "segments = segment_object(points, min_size, rect_th, alpha=alpha,\n",
    "                          k_init=k_init, max_dist_init=max_dist_init,\n",
    "                          k=k, max_dist=max_dist)\n",
    "\n",
    "linear_elements_t = []\n",
    "for s in segments:\n",
    "    l = VegetationObject(s, alpha)\n",
    "    linear_elements_t.append(l)\n",
    "print 'Done! Time elapsed: %.2f' % (time.time() - t)\n",
    "\n",
    "# %% Merge neighbouring elongated objects if pointing in the same direction\n",
    "print 'Merging objects..'\n",
    "t = time.time()\n",
    "max_dist = 5.0\n",
    "max_dir_dif = math.radians(30)\n",
    "min_elong = 1.3\n",
    "max_c_dir_dif = math.radians(30)\n",
    "max_width = 60\n",
    "linear_elements_t = merge_objects(linear_elements_t, max_dist, max_dir_dif,\n",
    "                                  max_c_dir_dif, min_elong, max_width)\n",
    "print 'Done! Time elapsed: %.2f' % (time.time() - t)\n",
    "\n",
    "# %% Export to shapefile\n",
    "print 'Exporting to shapefile..'\n",
    "filename = '../Data/linear_elements_t.shp'\n",
    "epsg = 28992\n",
    "export_to_shapefile(filename, linear_elements_t, epsg, global_shift_t)"
   ]
  },
  {
   "cell_type": "code",
   "execution_count": null,
   "metadata": {},
   "outputs": [],
   "source": [
    "# %% Load point cloud data\n",
    "print 'Loading low vegetation points..'\n",
    "point_cloud = pd.read_csv('../Data/low_veg_2D_sub_1_0.csv',\n",
    "                          delimiter=',', names=['X', 'Y', 'Z'], header=1)\n",
    "point_cloud.drop('Z', axis=1, inplace=True)\n",
    "\n",
    "points = point_cloud.as_matrix()\n",
    "global_shift_v = (min(points[:, 0]), min(points[:, 1]))\n",
    "points[:, 0] -= global_shift_v[0]\n",
    "points[:, 1] -= global_shift_v[1]\n",
    "\n",
    "# %% Segment the points into rectangular objects\n",
    "print 'Growing rectangular regions..'\n",
    "t = time.time()\n",
    "segments = segment_object(points, min_size, rect_th, alpha=alpha,\n",
    "                          k_init=k_init, max_dist_init=max_dist_init,\n",
    "                          k=k, max_dist=max_dist)\n",
    "\n",
    "linear_elements_lv = []\n",
    "for s in segments:\n",
    "    l = VegetationObject(s, alpha)\n",
    "    linear_elements_lv.append(l)\n",
    "print 'Time elapsed: %.2f' % (time.time() - t)\n",
    "\n",
    "# %% Merge neighbouring elongated regions if pointing in the same direction\n",
    "print 'Merging objects..'\n",
    "t = time.time()\n",
    "linear_elements_lv = merge_objects(linear_elements_lv, max_dist, max_dir_dif,\n",
    "                                   max_c_dir_dif, min_elong, max_width)\n",
    "print 'Time elapsed: %.2f' % (time.time() - t)"
   ]
  },
  {
   "cell_type": "code",
   "execution_count": null,
   "metadata": {},
   "outputs": [],
   "source": [
    "# %% Export to shapefile\n",
    "filename = '../Data/linear_elements_lv.shp'\n",
    "\n",
    "export_to_shapefile(filename, linear_elements_lv, epsg, global_shift_v)"
   ]
  }
 ],
 "metadata": {
  "kernelspec": {
   "display_name": "Python 2",
   "language": "python",
   "name": "python2"
  },
  "language_info": {
   "codemirror_mode": {
    "name": "ipython",
    "version": 2
   },
   "file_extension": ".py",
   "mimetype": "text/x-python",
   "name": "python",
   "nbconvert_exporter": "python",
   "pygments_lexer": "ipython2",
   "version": "2.7.13"
  }
 },
 "nbformat": 4,
 "nbformat_minor": 2
}
